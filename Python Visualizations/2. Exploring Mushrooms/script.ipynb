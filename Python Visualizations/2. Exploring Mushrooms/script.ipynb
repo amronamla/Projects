{
 "cells": [
  {
   "cell_type": "markdown",
   "metadata": {},
   "source": [
    "# Exploring Mushrooms"
   ]
  },
  {
   "cell_type": "markdown",
   "metadata": {},
   "source": [
    "## Looking Over the Data"
   ]
  },
  {
   "cell_type": "code",
   "execution_count": null,
   "metadata": {},
   "outputs": [],
   "source": [
    "# Importing necessary libraries\n",
    "import matplotlib.pyplot as plt  # For creating plots\n",
    "import pandas as pd  # For data manipulation and analysis\n",
    "import seaborn as sns  # For data visualization\n",
    "\n",
    "# Reading the mushroom dataset from a CSV file into a pandas DataFrame\n",
    "df = pd.read_csv(\"mushroom_data.csv\")\n",
    "\n",
    "# Displaying the first few rows of the DataFrame to get an overview of the data\n",
    "print(df.head())\n"
   ]
  },
  {
   "cell_type": "code",
   "execution_count": null,
   "metadata": {},
   "outputs": [],
   "source": [
    "# Converting 'Bruises' column values to strings for consistency\n",
    "for index in range(0, len(df['Bruises'])):\n",
    "    df['Bruises'][index] = str(df['Bruises'][index])\n",
    "\n",
    "# Retrieving the list of column names from the DataFrame\n",
    "columns = df.columns.tolist()\n",
    "\n",
    "# Printing each column name in the DataFrame\n",
    "for column in columns:\n",
    "    print(column)\n"
   ]
  },
  {
   "cell_type": "code",
   "execution_count": null,
   "metadata": {},
   "outputs": [],
   "source": [
    "# Plotting count plots for each column in the DataFrame using Seaborn\n",
    "for column in columns:\n",
    "    sns.countplot(x=column, data=df)\n"
   ]
  },
  {
   "cell_type": "code",
   "execution_count": null,
   "metadata": {},
   "outputs": [],
   "source": [
    "# Creating count plots for each unique value in each column using Seaborn\n",
    "for column in columns:\n",
    "    sns.countplot(x=df[column], data=df)  # Using Seaborn to create a count plot for the current column\n",
    "    plt.show()  # Displaying the plot\n",
    "    plt.clf()  # Clearing the current figure to prepare for the next plot\n"
   ]
  },
  {
   "cell_type": "code",
   "execution_count": null,
   "metadata": {},
   "outputs": [],
   "source": [
    "# Creating count plots for each unique value in each column using Seaborn\n",
    "for column in columns:\n",
    "    sns.countplot(x=df[column], data=df)  # Using Seaborn to create a count plot for the current column\n",
    "    \n",
    "    # Adjusting x-axis labels for better readability\n",
    "    plt.xticks(rotation=30, fontsize=10)\n",
    "    \n",
    "    # Adding x-axis label with the column name\n",
    "    plt.xlabel(column, fontsize=12)\n",
    "    \n",
    "    plt.show()  # Displaying the plot\n",
    "    plt.clf()  # Clearing the current figure to prepare for the next plot\n"
   ]
  },
  {
   "cell_type": "code",
   "execution_count": null,
   "metadata": {},
   "outputs": [],
   "source": [
    "# Creating count plots for each unique value in each column using Seaborn\n",
    "for column in columns:\n",
    "    sns.countplot(x=df[column], data=df)  # Using Seaborn to create a count plot for the current column\n",
    "    \n",
    "    # Adjusting x-axis labels for better readability\n",
    "    plt.xticks(rotation=30, fontsize=10)\n",
    "    \n",
    "    # Adding x-axis label with the column name\n",
    "    plt.xlabel(column, fontsize=12)\n",
    "    \n",
    "    # Adding a title to the plot indicating the value counts for the current column\n",
    "    plt.title(column + \" Value Counts\")\n",
    "    \n",
    "    plt.show()  # Displaying the plot\n",
    "    plt.clf()  # Clearing the current figure to prepare for the next plot\n"
   ]
  },
  {
   "cell_type": "code",
   "execution_count": null,
   "metadata": {},
   "outputs": [],
   "source": [
    "# Creating count plots for each unique value in each column using Seaborn with a specific order\n",
    "for column in columns:\n",
    "    sns.countplot(x=df[column], data=df, order=df[column].value_counts().index)  # Using Seaborn to create a count plot with a specified order\n",
    "    \n",
    "    # Adjusting x-axis labels for better readability\n",
    "    plt.xticks(rotation=30, fontsize=10)\n",
    "    \n",
    "    # Adding x-axis label with the column name\n",
    "    plt.xlabel(column, fontsize=12)\n",
    "    \n",
    "    # Adding a title to the plot indicating the value counts for the current column\n",
    "    plt.title(column + \" Value Counts\")\n",
    "    \n",
    "    plt.show()  # Displaying the plot\n",
    "    plt.clf()  # Clearing the current figure to prepare for the next plot\n"
   ]
  }
 ],
 "metadata": {
  "kernelspec": {
   "display_name": "Python 3",
   "language": "python",
   "name": "python3"
  },
  "language_info": {
   "codemirror_mode": {
    "name": "ipython",
    "version": 3
   },
   "file_extension": ".py",
   "mimetype": "text/x-python",
   "name": "python",
   "nbconvert_exporter": "python",
   "pygments_lexer": "ipython3",
   "version": "3.8.5"
  }
 },
 "nbformat": 4,
 "nbformat_minor": 5
}
